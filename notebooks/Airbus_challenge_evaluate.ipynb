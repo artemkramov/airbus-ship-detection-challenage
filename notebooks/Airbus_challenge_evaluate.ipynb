{
  "nbformat": 4,
  "nbformat_minor": 0,
  "metadata": {
    "colab": {
      "provenance": [],
      "collapsed_sections": [
        "40pWWy_cc2lY"
      ],
      "machine_shape": "hm",
      "gpuType": "A100"
    },
    "kernelspec": {
      "name": "python3",
      "display_name": "Python 3"
    },
    "language_info": {
      "name": "python"
    },
    "accelerator": "GPU"
  },
  "cells": [
    {
      "cell_type": "markdown",
      "metadata": {
        "id": "3TmjJcnv28f3"
      },
      "source": [
        "# Get Kaggle dataset"
      ]
    },
    {
      "cell_type": "markdown",
      "metadata": {
        "id": "zfagFXGy3G69"
      },
      "source": [
        "Upload kaggle.json"
      ]
    },
    {
      "cell_type": "code",
      "execution_count": null,
      "metadata": {
        "colab": {
          "base_uri": "https://localhost:8080/",
          "height": 110
        },
        "id": "cpnoEL3O3APl",
        "outputId": "d3437095-5eea-461a-9bf0-f71478bcc577"
      },
      "outputs": [
        {
          "output_type": "display_data",
          "data": {
            "text/plain": [
              "<IPython.core.display.HTML object>"
            ],
            "text/html": [
              "\n",
              "     <input type=\"file\" id=\"files-1a730c92-bbaf-47ca-a60a-82065b590ab0\" name=\"files[]\" multiple disabled\n",
              "        style=\"border:none\" />\n",
              "     <output id=\"result-1a730c92-bbaf-47ca-a60a-82065b590ab0\">\n",
              "      Upload widget is only available when the cell has been executed in the\n",
              "      current browser session. Please rerun this cell to enable.\n",
              "      </output>\n",
              "      <script>// Copyright 2017 Google LLC\n",
              "//\n",
              "// Licensed under the Apache License, Version 2.0 (the \"License\");\n",
              "// you may not use this file except in compliance with the License.\n",
              "// You may obtain a copy of the License at\n",
              "//\n",
              "//      http://www.apache.org/licenses/LICENSE-2.0\n",
              "//\n",
              "// Unless required by applicable law or agreed to in writing, software\n",
              "// distributed under the License is distributed on an \"AS IS\" BASIS,\n",
              "// WITHOUT WARRANTIES OR CONDITIONS OF ANY KIND, either express or implied.\n",
              "// See the License for the specific language governing permissions and\n",
              "// limitations under the License.\n",
              "\n",
              "/**\n",
              " * @fileoverview Helpers for google.colab Python module.\n",
              " */\n",
              "(function(scope) {\n",
              "function span(text, styleAttributes = {}) {\n",
              "  const element = document.createElement('span');\n",
              "  element.textContent = text;\n",
              "  for (const key of Object.keys(styleAttributes)) {\n",
              "    element.style[key] = styleAttributes[key];\n",
              "  }\n",
              "  return element;\n",
              "}\n",
              "\n",
              "// Max number of bytes which will be uploaded at a time.\n",
              "const MAX_PAYLOAD_SIZE = 100 * 1024;\n",
              "\n",
              "function _uploadFiles(inputId, outputId) {\n",
              "  const steps = uploadFilesStep(inputId, outputId);\n",
              "  const outputElement = document.getElementById(outputId);\n",
              "  // Cache steps on the outputElement to make it available for the next call\n",
              "  // to uploadFilesContinue from Python.\n",
              "  outputElement.steps = steps;\n",
              "\n",
              "  return _uploadFilesContinue(outputId);\n",
              "}\n",
              "\n",
              "// This is roughly an async generator (not supported in the browser yet),\n",
              "// where there are multiple asynchronous steps and the Python side is going\n",
              "// to poll for completion of each step.\n",
              "// This uses a Promise to block the python side on completion of each step,\n",
              "// then passes the result of the previous step as the input to the next step.\n",
              "function _uploadFilesContinue(outputId) {\n",
              "  const outputElement = document.getElementById(outputId);\n",
              "  const steps = outputElement.steps;\n",
              "\n",
              "  const next = steps.next(outputElement.lastPromiseValue);\n",
              "  return Promise.resolve(next.value.promise).then((value) => {\n",
              "    // Cache the last promise value to make it available to the next\n",
              "    // step of the generator.\n",
              "    outputElement.lastPromiseValue = value;\n",
              "    return next.value.response;\n",
              "  });\n",
              "}\n",
              "\n",
              "/**\n",
              " * Generator function which is called between each async step of the upload\n",
              " * process.\n",
              " * @param {string} inputId Element ID of the input file picker element.\n",
              " * @param {string} outputId Element ID of the output display.\n",
              " * @return {!Iterable<!Object>} Iterable of next steps.\n",
              " */\n",
              "function* uploadFilesStep(inputId, outputId) {\n",
              "  const inputElement = document.getElementById(inputId);\n",
              "  inputElement.disabled = false;\n",
              "\n",
              "  const outputElement = document.getElementById(outputId);\n",
              "  outputElement.innerHTML = '';\n",
              "\n",
              "  const pickedPromise = new Promise((resolve) => {\n",
              "    inputElement.addEventListener('change', (e) => {\n",
              "      resolve(e.target.files);\n",
              "    });\n",
              "  });\n",
              "\n",
              "  const cancel = document.createElement('button');\n",
              "  inputElement.parentElement.appendChild(cancel);\n",
              "  cancel.textContent = 'Cancel upload';\n",
              "  const cancelPromise = new Promise((resolve) => {\n",
              "    cancel.onclick = () => {\n",
              "      resolve(null);\n",
              "    };\n",
              "  });\n",
              "\n",
              "  // Wait for the user to pick the files.\n",
              "  const files = yield {\n",
              "    promise: Promise.race([pickedPromise, cancelPromise]),\n",
              "    response: {\n",
              "      action: 'starting',\n",
              "    }\n",
              "  };\n",
              "\n",
              "  cancel.remove();\n",
              "\n",
              "  // Disable the input element since further picks are not allowed.\n",
              "  inputElement.disabled = true;\n",
              "\n",
              "  if (!files) {\n",
              "    return {\n",
              "      response: {\n",
              "        action: 'complete',\n",
              "      }\n",
              "    };\n",
              "  }\n",
              "\n",
              "  for (const file of files) {\n",
              "    const li = document.createElement('li');\n",
              "    li.append(span(file.name, {fontWeight: 'bold'}));\n",
              "    li.append(span(\n",
              "        `(${file.type || 'n/a'}) - ${file.size} bytes, ` +\n",
              "        `last modified: ${\n",
              "            file.lastModifiedDate ? file.lastModifiedDate.toLocaleDateString() :\n",
              "                                    'n/a'} - `));\n",
              "    const percent = span('0% done');\n",
              "    li.appendChild(percent);\n",
              "\n",
              "    outputElement.appendChild(li);\n",
              "\n",
              "    const fileDataPromise = new Promise((resolve) => {\n",
              "      const reader = new FileReader();\n",
              "      reader.onload = (e) => {\n",
              "        resolve(e.target.result);\n",
              "      };\n",
              "      reader.readAsArrayBuffer(file);\n",
              "    });\n",
              "    // Wait for the data to be ready.\n",
              "    let fileData = yield {\n",
              "      promise: fileDataPromise,\n",
              "      response: {\n",
              "        action: 'continue',\n",
              "      }\n",
              "    };\n",
              "\n",
              "    // Use a chunked sending to avoid message size limits. See b/62115660.\n",
              "    let position = 0;\n",
              "    do {\n",
              "      const length = Math.min(fileData.byteLength - position, MAX_PAYLOAD_SIZE);\n",
              "      const chunk = new Uint8Array(fileData, position, length);\n",
              "      position += length;\n",
              "\n",
              "      const base64 = btoa(String.fromCharCode.apply(null, chunk));\n",
              "      yield {\n",
              "        response: {\n",
              "          action: 'append',\n",
              "          file: file.name,\n",
              "          data: base64,\n",
              "        },\n",
              "      };\n",
              "\n",
              "      let percentDone = fileData.byteLength === 0 ?\n",
              "          100 :\n",
              "          Math.round((position / fileData.byteLength) * 100);\n",
              "      percent.textContent = `${percentDone}% done`;\n",
              "\n",
              "    } while (position < fileData.byteLength);\n",
              "  }\n",
              "\n",
              "  // All done.\n",
              "  yield {\n",
              "    response: {\n",
              "      action: 'complete',\n",
              "    }\n",
              "  };\n",
              "}\n",
              "\n",
              "scope.google = scope.google || {};\n",
              "scope.google.colab = scope.google.colab || {};\n",
              "scope.google.colab._files = {\n",
              "  _uploadFiles,\n",
              "  _uploadFilesContinue,\n",
              "};\n",
              "})(self);\n",
              "</script> "
            ]
          },
          "metadata": {}
        },
        {
          "output_type": "stream",
          "name": "stdout",
          "text": [
            "Saving kaggle.json to kaggle.json\n"
          ]
        },
        {
          "output_type": "execute_result",
          "data": {
            "text/plain": [
              "{'kaggle.json': b'{\"username\":\"artemkramov\",\"key\":\"e23e079bd58bf2b260208ca8c5d2d64c\"}'}"
            ]
          },
          "metadata": {},
          "execution_count": 1
        }
      ],
      "source": [
        " from google.colab import files\n",
        " files.upload()"
      ]
    },
    {
      "cell_type": "markdown",
      "metadata": {
        "id": "IZnHJFG54w7P"
      },
      "source": [
        "Copy the JSON file, set permissions, show the list of Kaggle datasets to ensure that the `kaggle` command is working"
      ]
    },
    {
      "cell_type": "code",
      "execution_count": null,
      "metadata": {
        "id": "_k23uWaG3I-9"
      },
      "outputs": [],
      "source": [
        "!mkdir ~/.kaggle\n",
        "!cp kaggle.json ~/.kaggle/\n",
        "!chmod 600 ~/.kaggle/kaggle.json\n",
        "!kaggle datasets list"
      ]
    },
    {
      "cell_type": "markdown",
      "metadata": {
        "id": "fiF037XQ4-mu"
      },
      "source": [
        "Download the dataset and unzip it"
      ]
    },
    {
      "cell_type": "code",
      "execution_count": null,
      "metadata": {
        "colab": {
          "base_uri": "https://localhost:8080/"
        },
        "id": "q90XmgdB3LV1",
        "outputId": "1af9828f-35d1-4498-ed6c-f18d3078a720"
      },
      "outputs": [
        {
          "output_type": "stream",
          "name": "stdout",
          "text": [
            "Downloading airbus-ship-detection.zip to /content\n",
            "100% 28.6G/28.6G [21:58<00:00, 23.5MB/s]\n",
            "100% 28.6G/28.6G [21:58<00:00, 23.3MB/s]\n"
          ]
        }
      ],
      "source": [
        "!kaggle competitions download -c airbus-ship-detection"
      ]
    },
    {
      "cell_type": "code",
      "execution_count": null,
      "metadata": {
        "id": "14Cek4E46Onc"
      },
      "outputs": [],
      "source": [
        "!unzip airbus-ship-detection.zip -d \"/content\""
      ]
    },
    {
      "cell_type": "code",
      "execution_count": null,
      "metadata": {
        "id": "jvgn9gw388q-"
      },
      "outputs": [],
      "source": [
        "!rm airbus-ship-detection.zip"
      ]
    },
    {
      "cell_type": "code",
      "execution_count": null,
      "metadata": {
        "colab": {
          "base_uri": "https://localhost:8080/"
        },
        "id": "_luycyyT9BNf",
        "outputId": "42bf7807-feaa-4e29-9c06-a6c27aef4c99"
      },
      "outputs": [
        {
          "output_type": "stream",
          "name": "stdout",
          "text": [
            "Number of files in the training folder: 192556\n"
          ]
        }
      ],
      "source": [
        "import os\n",
        "\n",
        "print(\"Number of files in the training folder: {}\".format(len(os.listdir(\"train_v2\"))))"
      ]
    },
    {
      "cell_type": "markdown",
      "source": [
        "# Install dependencies and import them"
      ],
      "metadata": {
        "id": "vMhznqkMVWPj"
      }
    },
    {
      "cell_type": "code",
      "execution_count": null,
      "metadata": {
        "id": "s5qeqpEBMnXC"
      },
      "outputs": [],
      "source": [
        "!pip install transformers\n",
        "!pip install -q mediapy\n",
        "!pip install datasets"
      ]
    },
    {
      "cell_type": "code",
      "source": [
        "import pandas as pd\n",
        "import os\n",
        "from transformers import MaskFormerImageProcessor, MaskFormerForInstanceSegmentation, ViTImageProcessor, ViTForImageClassification, AutoImageProcessor\n",
        "import mediapy as media\n",
        "from datasets import IterableDataset\n",
        "from torch.utils.data import DataLoader\n",
        "import numpy as np\n",
        "import torch\n",
        "import tqdm\n",
        "from skimage.morphology import label\n",
        "import matplotlib.pyplot as plt"
      ],
      "metadata": {
        "id": "wsJhHSAbN42x"
      },
      "execution_count": null,
      "outputs": []
    },
    {
      "cell_type": "markdown",
      "source": [
        "# Set global variables to be used"
      ],
      "metadata": {
        "id": "0EC4JjzlVkaR"
      }
    },
    {
      "cell_type": "markdown",
      "source": [
        "Mount Google Drive to load the pre-trained model"
      ],
      "metadata": {
        "id": "oqb_JUjSuebZ"
      }
    },
    {
      "cell_type": "code",
      "source": [
        "from google.colab import drive\n",
        "drive.mount('/content/drive')"
      ],
      "metadata": {
        "colab": {
          "base_uri": "https://localhost:8080/"
        },
        "id": "tTlSheqAV7f4",
        "outputId": "052ec9de-38ca-4b4b-ce97-f88f9f9796db"
      },
      "execution_count": null,
      "outputs": [
        {
          "output_type": "stream",
          "name": "stdout",
          "text": [
            "Mounted at /content/drive\n"
          ]
        }
      ]
    },
    {
      "cell_type": "code",
      "source": [
        "BASE_DIR = \"/content\"\n",
        "TEST_DIR = os.path.join(BASE_DIR, \"test_v2\")\n",
        "TEST_DATASET = os.path.join(BASE_DIR, \"sample_submission_v2.csv\")\n",
        "TRAIN_DATASET = os.path.join(BASE_DIR, \"train_ship_segmentations_v2.csv\")\n",
        "MODEL_PATH = \"/content/drive/MyDrive/Airbus/checkpoints/model_0.8197\"\n",
        "MODEL_PATH_CLASSIFIER = \"/content/drive/MyDrive/Airbus/checkpoints_classifier\"\n",
        "WIDTH = 768\n",
        "HEIGHT = 768"
      ],
      "metadata": {
        "id": "zx6GnRrIN-U6"
      },
      "execution_count": null,
      "outputs": []
    },
    {
      "cell_type": "markdown",
      "source": [
        "# Prepare the dataset as a generator"
      ],
      "metadata": {
        "id": "DMQTFeR0Vpyn"
      }
    },
    {
      "cell_type": "code",
      "source": [
        "df = pd.read_csv(TEST_DATASET)"
      ],
      "metadata": {
        "id": "TYILtAfXOB52"
      },
      "execution_count": null,
      "outputs": []
    },
    {
      "cell_type": "code",
      "source": [
        "def generator_fn(df_subset):\n",
        "  \"\"\"\n",
        "  Generator to return samples for the test subset\n",
        "  :param pd.DataFrame df_subset: test subset\n",
        "  :return: tuple with an image pixels and its ID\n",
        "  :rtype: (np.ndarray, str)\n",
        "  \"\"\"\n",
        "  for _, row in df_subset.iterrows():\n",
        "    filename = os.path.join(TEST_DIR, row['ImageId'])\n",
        "    try:\n",
        "      image = media.read_image(filename)\n",
        "      yield np.moveaxis(image, -1, 0), row['ImageId']\n",
        "    except FileNotFoundError:\n",
        "      pass"
      ],
      "metadata": {
        "id": "yhr9SOzvPO6r"
      },
      "execution_count": null,
      "outputs": []
    },
    {
      "cell_type": "code",
      "source": [
        "# Create a dataset from the generator\n",
        "dataset_test = IterableDataset.from_generator(generator_fn, gen_kwargs={'df_subset': df})"
      ],
      "metadata": {
        "id": "h7R5tu9ZPhIy"
      },
      "execution_count": null,
      "outputs": []
    },
    {
      "cell_type": "code",
      "source": [
        "# Create a preprocessor for the MaskFormer\n",
        "# The preprocessor transforms the pair \"image-mask\" to the list of binary masks with the corresponding classes\n",
        "# We set the ignore_index to -1 as far as we want to predict the background (label=0) as well\n",
        "preprocessor = MaskFormerImageProcessor(ignore_index=-1, reduce_labels=False, do_resize=False, do_rescale=False, do_normalize=False)"
      ],
      "metadata": {
        "colab": {
          "base_uri": "https://localhost:8080/"
        },
        "id": "AWN7jtEoQHvH",
        "outputId": "8f53b9f3-6419-4a6b-dda0-7aff064c70ce"
      },
      "execution_count": null,
      "outputs": [
        {
          "output_type": "stream",
          "name": "stderr",
          "text": [
            "/usr/local/lib/python3.10/dist-packages/transformers/models/maskformer/image_processing_maskformer.py:429: FutureWarning: The `reduce_labels` argument is deprecated and will be removed in v4.27. Please use `do_reduce_labels` instead.\n",
            "  warnings.warn(\n"
          ]
        }
      ]
    },
    {
      "cell_type": "code",
      "source": [
        "def collate_fn(batch):\n",
        "  \"\"\"\n",
        "  Preprocess batch data to be suitable for the MaskFormer format\n",
        "  :param batch: list of tuples (image, label)\n",
        "  :return: dictionary where each key represents batch value\n",
        "  :rtype: dict\n",
        "  \"\"\"\n",
        "\n",
        "  # Group image pixels data and their IDs\n",
        "  inputs = list(zip(*batch))\n",
        "  images = inputs[0]\n",
        "  images_idx = inputs[1]\n",
        "\n",
        "  # Create a pixel masks&values from the list of batch images\n",
        "  batch = preprocessor(\n",
        "      images,\n",
        "      return_tensors=\"pt\",\n",
        "  )\n",
        "\n",
        "  # Set IDs of batch images\n",
        "  batch['ImageId'] = images_idx\n",
        "\n",
        "  return batch"
      ],
      "metadata": {
        "id": "7Tc72ytoQLKl"
      },
      "execution_count": null,
      "outputs": []
    },
    {
      "cell_type": "code",
      "source": [
        "# Create the dataloader for the test set\n",
        "test_dataloader = DataLoader(dataset_test, batch_size=32, shuffle=False, collate_fn=collate_fn)"
      ],
      "metadata": {
        "id": "6R25UsLbQWVO"
      },
      "execution_count": null,
      "outputs": []
    },
    {
      "cell_type": "code",
      "source": [
        "# Check if the batch contains all required data\n",
        "batch = next(iter(test_dataloader))\n",
        "for k,v in batch.items():\n",
        "  if isinstance(v, torch.Tensor):\n",
        "    print(k,v.shape)\n",
        "  else:\n",
        "    print(k, v)"
      ],
      "metadata": {
        "colab": {
          "base_uri": "https://localhost:8080/"
        },
        "id": "Y-VFc00YQa-S",
        "outputId": "8fafbc54-7ac5-460c-c444-f4b8d2a33834"
      },
      "execution_count": null,
      "outputs": [
        {
          "output_type": "stream",
          "name": "stdout",
          "text": [
            "pixel_values torch.Size([32, 3, 768, 768])\n",
            "pixel_mask torch.Size([32, 768, 768])\n",
            "ImageId ('00002bd58.jpg', '00015efb6.jpg', '00023d5fc.jpg', '000367c13.jpg', '0008ca6e9.jpg', '000a4635f.jpg', '000bd9dbf.jpg', '000f7d875.jpg', '0010551d9.jpg', '001839c6f.jpg', '002a943bf.jpg', '00313b166.jpg', '00327b02d.jpg', '0035268d9.jpg', '003b58a76.jpg', '0044e3dda.jpg', '0046967a4.jpg', '004751507.jpg', '0047c79fc.jpg', '004946ceb.jpg', '004dd347a.jpg', '00506a19e.jpg', '0057c059b.jpg', '005b8152d.jpg', '0063cb1e9.jpg', '00696ecc2.jpg', '006ba5b3b.jpg', '007211988.jpg', '007545acc.jpg', '0075cd3f1.jpg', '007600ece.jpg', '0079b4767.jpg')\n"
          ]
        }
      ]
    },
    {
      "cell_type": "markdown",
      "source": [
        "# Load a pre-trained model"
      ],
      "metadata": {
        "id": "V0dbOZHXV0WY"
      }
    },
    {
      "cell_type": "code",
      "source": [
        "model = MaskFormerForInstanceSegmentation.from_pretrained(MODEL_PATH)"
      ],
      "metadata": {
        "id": "kre3tzOhQxBw"
      },
      "execution_count": null,
      "outputs": []
    },
    {
      "cell_type": "markdown",
      "source": [
        "Set the GPU device and attach the model to it"
      ],
      "metadata": {
        "id": "8cUpN1WnwTAv"
      }
    },
    {
      "cell_type": "code",
      "source": [
        "device = torch.device(\"cuda\" if torch.cuda.is_available() else \"cpu\")\n",
        "model = model.to(device)\n",
        "model = model.eval()"
      ],
      "metadata": {
        "id": "kBywHNmBRcv3"
      },
      "execution_count": null,
      "outputs": []
    },
    {
      "cell_type": "markdown",
      "source": [
        "Prepare functions to transform the binary mask to the RLE format"
      ],
      "metadata": {
        "id": "McdDYK7rwZB_"
      }
    },
    {
      "cell_type": "code",
      "source": [
        "def rle_encode(img):\n",
        "  \"\"\"\n",
        "  Transform binary image to the RLE string\n",
        "  :param np.ndarray img: binary mask where 1 - mask, 0 - background\n",
        "  :return: RLE string\n",
        "  :rtype: str\n",
        "  \"\"\"\n",
        "\n",
        "  # Flatten binary matrix\n",
        "  pixels = img.T.flatten()\n",
        "\n",
        "  # Get all pairs of pixels that define the start and the end\n",
        "  # of non-zero sequences within the pixel array\n",
        "  pixels = np.concatenate([[0], pixels, [0]])\n",
        "  runs = np.where(pixels[1:] != pixels[:-1])[0] + 1\n",
        "\n",
        "  # Replace values that correspond to the end of sequence\n",
        "  # with a number of elements within a sequence\n",
        "  runs[1::2] -= runs[::2]\n",
        "\n",
        "  # Return RLE string\n",
        "  return ' '.join(str(x) for x in runs)\n",
        "\n",
        "def multi_rle_encode(img):\n",
        "  \"\"\"\n",
        "  Transform the binary mask to the list of RLE encodings per each predicted ship\n",
        "  :param np.ndarray img: binary mask\n",
        "  :return: list of RLE strings per each detected ship\n",
        "  :rtype: List[str]\n",
        "  \"\"\"\n",
        "\n",
        "  # Split the binary mask into instances\n",
        "  # Thus, we get a matrix where non-zero value indicates a class number of the predicted object\n",
        "  labels = label(img)\n",
        "\n",
        "  # Get RLE encoding fo each instance\n",
        "  return [rle_encode(labels==k) for k in np.unique(labels[labels>0])]"
      ],
      "metadata": {
        "id": "TrZY9P2RdrbC"
      },
      "execution_count": null,
      "outputs": []
    },
    {
      "cell_type": "markdown",
      "source": [
        "Predict all test samples, transform output binary masks into RLE format"
      ],
      "metadata": {
        "id": "7CBuDFU4yF8H"
      }
    },
    {
      "cell_type": "code",
      "source": [
        "# Iterate over all test batches\n",
        "pred_rows = []\n",
        "for idx, batch in enumerate(tqdm.tqdm(test_dataloader)):\n",
        "\n",
        "  # Predict output data\n",
        "  with torch.no_grad():\n",
        "    outputs = model(pixel_values=batch[\"pixel_values\"].to(torch.float).to(device))\n",
        "\n",
        "  # Get expected shapes of binary masks\n",
        "  target_sizes = [(WIDTH, HEIGHT) for image in batch[\"pixel_values\"]]\n",
        "\n",
        "  # Predict segmentation maps\n",
        "  predicted_segmentation_maps = preprocessor.post_process_semantic_segmentation(outputs,\n",
        "                                                                                target_sizes=target_sizes)\n",
        "\n",
        "\n",
        "  # Transform each segmentation map of the batch into the RLE format\n",
        "  # and add retrieved data to the output\n",
        "  for segmentation_map, image_idx in zip(predicted_segmentation_maps, batch['ImageId']):\n",
        "\n",
        "    # Get RLE encodings\n",
        "    rle_encodings = multi_rle_encode(segmentation_map.cpu().detach().numpy())\n",
        "\n",
        "    # Link encodings with an image\n",
        "    # and add the pair to the output\n",
        "    if len(rle_encodings) == 0:\n",
        "      pred_rows.append({\n",
        "          'ImageId': image_idx,\n",
        "          'EncodedPixels': ''\n",
        "      })\n",
        "    else:\n",
        "      for rle_encoding in rle_encodings:\n",
        "        pred_rows.append({\n",
        "          'ImageId': image_idx,\n",
        "          'EncodedPixels': rle_encoding\n",
        "      })"
      ],
      "metadata": {
        "colab": {
          "base_uri": "https://localhost:8080/"
        },
        "id": "Cl6kIH49UkfD",
        "outputId": "45318aaa-9164-4f61-f6d3-5da11ab72caf"
      },
      "execution_count": null,
      "outputs": [
        {
          "output_type": "stream",
          "name": "stderr",
          "text": [
            "488it [18:12,  2.24s/it]\n"
          ]
        }
      ]
    },
    {
      "cell_type": "code",
      "source": [
        "# Represent predicted data as a dataframe\n",
        "df_pred = pd.DataFrame(pred_rows)\n",
        "df_pred"
      ],
      "metadata": {
        "colab": {
          "base_uri": "https://localhost:8080/",
          "height": 423
        },
        "id": "Iv7siIbCbCyR",
        "outputId": "c56a6ca4-0ff6-4549-8fc8-4d417dd6ddfd"
      },
      "execution_count": null,
      "outputs": [
        {
          "output_type": "execute_result",
          "data": {
            "text/plain": [
              "             ImageId                                      EncodedPixels\n",
              "0      00002bd58.jpg                                                   \n",
              "1      00015efb6.jpg                                                   \n",
              "2      00023d5fc.jpg                                                   \n",
              "3      000367c13.jpg  344078 1 344843 6 345610 7 346378 7 347145 8 3...\n",
              "4      000367c13.jpg  474714 1 475478 6 476245 8 477013 8 477781 8 4...\n",
              "...              ...                                                ...\n",
              "25076  ffeb765e8.jpg       119474 5 120242 7 121010 7 121778 7 122547 4\n",
              "25077  ffeb765e8.jpg                                           117950 1\n",
              "25078  ffeb765e8.jpg            94158 2 94926 2 95694 3 96462 3 97230 2\n",
              "25079  ffeba1475.jpg                                                   \n",
              "25080  fff0fd44f.jpg                                                   \n",
              "\n",
              "[25081 rows x 2 columns]"
            ],
            "text/html": [
              "\n",
              "  <div id=\"df-84d270c8-0732-4668-9550-72b934b1d59e\" class=\"colab-df-container\">\n",
              "    <div>\n",
              "<style scoped>\n",
              "    .dataframe tbody tr th:only-of-type {\n",
              "        vertical-align: middle;\n",
              "    }\n",
              "\n",
              "    .dataframe tbody tr th {\n",
              "        vertical-align: top;\n",
              "    }\n",
              "\n",
              "    .dataframe thead th {\n",
              "        text-align: right;\n",
              "    }\n",
              "</style>\n",
              "<table border=\"1\" class=\"dataframe\">\n",
              "  <thead>\n",
              "    <tr style=\"text-align: right;\">\n",
              "      <th></th>\n",
              "      <th>ImageId</th>\n",
              "      <th>EncodedPixels</th>\n",
              "    </tr>\n",
              "  </thead>\n",
              "  <tbody>\n",
              "    <tr>\n",
              "      <th>0</th>\n",
              "      <td>00002bd58.jpg</td>\n",
              "      <td></td>\n",
              "    </tr>\n",
              "    <tr>\n",
              "      <th>1</th>\n",
              "      <td>00015efb6.jpg</td>\n",
              "      <td></td>\n",
              "    </tr>\n",
              "    <tr>\n",
              "      <th>2</th>\n",
              "      <td>00023d5fc.jpg</td>\n",
              "      <td></td>\n",
              "    </tr>\n",
              "    <tr>\n",
              "      <th>3</th>\n",
              "      <td>000367c13.jpg</td>\n",
              "      <td>344078 1 344843 6 345610 7 346378 7 347145 8 3...</td>\n",
              "    </tr>\n",
              "    <tr>\n",
              "      <th>4</th>\n",
              "      <td>000367c13.jpg</td>\n",
              "      <td>474714 1 475478 6 476245 8 477013 8 477781 8 4...</td>\n",
              "    </tr>\n",
              "    <tr>\n",
              "      <th>...</th>\n",
              "      <td>...</td>\n",
              "      <td>...</td>\n",
              "    </tr>\n",
              "    <tr>\n",
              "      <th>25076</th>\n",
              "      <td>ffeb765e8.jpg</td>\n",
              "      <td>119474 5 120242 7 121010 7 121778 7 122547 4</td>\n",
              "    </tr>\n",
              "    <tr>\n",
              "      <th>25077</th>\n",
              "      <td>ffeb765e8.jpg</td>\n",
              "      <td>117950 1</td>\n",
              "    </tr>\n",
              "    <tr>\n",
              "      <th>25078</th>\n",
              "      <td>ffeb765e8.jpg</td>\n",
              "      <td>94158 2 94926 2 95694 3 96462 3 97230 2</td>\n",
              "    </tr>\n",
              "    <tr>\n",
              "      <th>25079</th>\n",
              "      <td>ffeba1475.jpg</td>\n",
              "      <td></td>\n",
              "    </tr>\n",
              "    <tr>\n",
              "      <th>25080</th>\n",
              "      <td>fff0fd44f.jpg</td>\n",
              "      <td></td>\n",
              "    </tr>\n",
              "  </tbody>\n",
              "</table>\n",
              "<p>25081 rows × 2 columns</p>\n",
              "</div>\n",
              "    <div class=\"colab-df-buttons\">\n",
              "\n",
              "  <div class=\"colab-df-container\">\n",
              "    <button class=\"colab-df-convert\" onclick=\"convertToInteractive('df-84d270c8-0732-4668-9550-72b934b1d59e')\"\n",
              "            title=\"Convert this dataframe to an interactive table.\"\n",
              "            style=\"display:none;\">\n",
              "\n",
              "  <svg xmlns=\"http://www.w3.org/2000/svg\" height=\"24px\" viewBox=\"0 -960 960 960\">\n",
              "    <path d=\"M120-120v-720h720v720H120Zm60-500h600v-160H180v160Zm220 220h160v-160H400v160Zm0 220h160v-160H400v160ZM180-400h160v-160H180v160Zm440 0h160v-160H620v160ZM180-180h160v-160H180v160Zm440 0h160v-160H620v160Z\"/>\n",
              "  </svg>\n",
              "    </button>\n",
              "\n",
              "  <style>\n",
              "    .colab-df-container {\n",
              "      display:flex;\n",
              "      gap: 12px;\n",
              "    }\n",
              "\n",
              "    .colab-df-convert {\n",
              "      background-color: #E8F0FE;\n",
              "      border: none;\n",
              "      border-radius: 50%;\n",
              "      cursor: pointer;\n",
              "      display: none;\n",
              "      fill: #1967D2;\n",
              "      height: 32px;\n",
              "      padding: 0 0 0 0;\n",
              "      width: 32px;\n",
              "    }\n",
              "\n",
              "    .colab-df-convert:hover {\n",
              "      background-color: #E2EBFA;\n",
              "      box-shadow: 0px 1px 2px rgba(60, 64, 67, 0.3), 0px 1px 3px 1px rgba(60, 64, 67, 0.15);\n",
              "      fill: #174EA6;\n",
              "    }\n",
              "\n",
              "    .colab-df-buttons div {\n",
              "      margin-bottom: 4px;\n",
              "    }\n",
              "\n",
              "    [theme=dark] .colab-df-convert {\n",
              "      background-color: #3B4455;\n",
              "      fill: #D2E3FC;\n",
              "    }\n",
              "\n",
              "    [theme=dark] .colab-df-convert:hover {\n",
              "      background-color: #434B5C;\n",
              "      box-shadow: 0px 1px 3px 1px rgba(0, 0, 0, 0.15);\n",
              "      filter: drop-shadow(0px 1px 2px rgba(0, 0, 0, 0.3));\n",
              "      fill: #FFFFFF;\n",
              "    }\n",
              "  </style>\n",
              "\n",
              "    <script>\n",
              "      const buttonEl =\n",
              "        document.querySelector('#df-84d270c8-0732-4668-9550-72b934b1d59e button.colab-df-convert');\n",
              "      buttonEl.style.display =\n",
              "        google.colab.kernel.accessAllowed ? 'block' : 'none';\n",
              "\n",
              "      async function convertToInteractive(key) {\n",
              "        const element = document.querySelector('#df-84d270c8-0732-4668-9550-72b934b1d59e');\n",
              "        const dataTable =\n",
              "          await google.colab.kernel.invokeFunction('convertToInteractive',\n",
              "                                                    [key], {});\n",
              "        if (!dataTable) return;\n",
              "\n",
              "        const docLinkHtml = 'Like what you see? Visit the ' +\n",
              "          '<a target=\"_blank\" href=https://colab.research.google.com/notebooks/data_table.ipynb>data table notebook</a>'\n",
              "          + ' to learn more about interactive tables.';\n",
              "        element.innerHTML = '';\n",
              "        dataTable['output_type'] = 'display_data';\n",
              "        await google.colab.output.renderOutput(dataTable, element);\n",
              "        const docLink = document.createElement('div');\n",
              "        docLink.innerHTML = docLinkHtml;\n",
              "        element.appendChild(docLink);\n",
              "      }\n",
              "    </script>\n",
              "  </div>\n",
              "\n",
              "\n",
              "<div id=\"df-997aea3f-5993-4627-b8b5-192b840296b4\">\n",
              "  <button class=\"colab-df-quickchart\" onclick=\"quickchart('df-997aea3f-5993-4627-b8b5-192b840296b4')\"\n",
              "            title=\"Suggest charts.\"\n",
              "            style=\"display:none;\">\n",
              "\n",
              "<svg xmlns=\"http://www.w3.org/2000/svg\" height=\"24px\"viewBox=\"0 0 24 24\"\n",
              "     width=\"24px\">\n",
              "    <g>\n",
              "        <path d=\"M19 3H5c-1.1 0-2 .9-2 2v14c0 1.1.9 2 2 2h14c1.1 0 2-.9 2-2V5c0-1.1-.9-2-2-2zM9 17H7v-7h2v7zm4 0h-2V7h2v10zm4 0h-2v-4h2v4z\"/>\n",
              "    </g>\n",
              "</svg>\n",
              "  </button>\n",
              "\n",
              "<style>\n",
              "  .colab-df-quickchart {\n",
              "      --bg-color: #E8F0FE;\n",
              "      --fill-color: #1967D2;\n",
              "      --hover-bg-color: #E2EBFA;\n",
              "      --hover-fill-color: #174EA6;\n",
              "      --disabled-fill-color: #AAA;\n",
              "      --disabled-bg-color: #DDD;\n",
              "  }\n",
              "\n",
              "  [theme=dark] .colab-df-quickchart {\n",
              "      --bg-color: #3B4455;\n",
              "      --fill-color: #D2E3FC;\n",
              "      --hover-bg-color: #434B5C;\n",
              "      --hover-fill-color: #FFFFFF;\n",
              "      --disabled-bg-color: #3B4455;\n",
              "      --disabled-fill-color: #666;\n",
              "  }\n",
              "\n",
              "  .colab-df-quickchart {\n",
              "    background-color: var(--bg-color);\n",
              "    border: none;\n",
              "    border-radius: 50%;\n",
              "    cursor: pointer;\n",
              "    display: none;\n",
              "    fill: var(--fill-color);\n",
              "    height: 32px;\n",
              "    padding: 0;\n",
              "    width: 32px;\n",
              "  }\n",
              "\n",
              "  .colab-df-quickchart:hover {\n",
              "    background-color: var(--hover-bg-color);\n",
              "    box-shadow: 0 1px 2px rgba(60, 64, 67, 0.3), 0 1px 3px 1px rgba(60, 64, 67, 0.15);\n",
              "    fill: var(--button-hover-fill-color);\n",
              "  }\n",
              "\n",
              "  .colab-df-quickchart-complete:disabled,\n",
              "  .colab-df-quickchart-complete:disabled:hover {\n",
              "    background-color: var(--disabled-bg-color);\n",
              "    fill: var(--disabled-fill-color);\n",
              "    box-shadow: none;\n",
              "  }\n",
              "\n",
              "  .colab-df-spinner {\n",
              "    border: 2px solid var(--fill-color);\n",
              "    border-color: transparent;\n",
              "    border-bottom-color: var(--fill-color);\n",
              "    animation:\n",
              "      spin 1s steps(1) infinite;\n",
              "  }\n",
              "\n",
              "  @keyframes spin {\n",
              "    0% {\n",
              "      border-color: transparent;\n",
              "      border-bottom-color: var(--fill-color);\n",
              "      border-left-color: var(--fill-color);\n",
              "    }\n",
              "    20% {\n",
              "      border-color: transparent;\n",
              "      border-left-color: var(--fill-color);\n",
              "      border-top-color: var(--fill-color);\n",
              "    }\n",
              "    30% {\n",
              "      border-color: transparent;\n",
              "      border-left-color: var(--fill-color);\n",
              "      border-top-color: var(--fill-color);\n",
              "      border-right-color: var(--fill-color);\n",
              "    }\n",
              "    40% {\n",
              "      border-color: transparent;\n",
              "      border-right-color: var(--fill-color);\n",
              "      border-top-color: var(--fill-color);\n",
              "    }\n",
              "    60% {\n",
              "      border-color: transparent;\n",
              "      border-right-color: var(--fill-color);\n",
              "    }\n",
              "    80% {\n",
              "      border-color: transparent;\n",
              "      border-right-color: var(--fill-color);\n",
              "      border-bottom-color: var(--fill-color);\n",
              "    }\n",
              "    90% {\n",
              "      border-color: transparent;\n",
              "      border-bottom-color: var(--fill-color);\n",
              "    }\n",
              "  }\n",
              "</style>\n",
              "\n",
              "  <script>\n",
              "    async function quickchart(key) {\n",
              "      const quickchartButtonEl =\n",
              "        document.querySelector('#' + key + ' button');\n",
              "      quickchartButtonEl.disabled = true;  // To prevent multiple clicks.\n",
              "      quickchartButtonEl.classList.add('colab-df-spinner');\n",
              "      try {\n",
              "        const charts = await google.colab.kernel.invokeFunction(\n",
              "            'suggestCharts', [key], {});\n",
              "      } catch (error) {\n",
              "        console.error('Error during call to suggestCharts:', error);\n",
              "      }\n",
              "      quickchartButtonEl.classList.remove('colab-df-spinner');\n",
              "      quickchartButtonEl.classList.add('colab-df-quickchart-complete');\n",
              "    }\n",
              "    (() => {\n",
              "      let quickchartButtonEl =\n",
              "        document.querySelector('#df-997aea3f-5993-4627-b8b5-192b840296b4 button');\n",
              "      quickchartButtonEl.style.display =\n",
              "        google.colab.kernel.accessAllowed ? 'block' : 'none';\n",
              "    })();\n",
              "  </script>\n",
              "</div>\n",
              "    </div>\n",
              "  </div>\n"
            ]
          },
          "metadata": {},
          "execution_count": 29
        }
      ]
    },
    {
      "cell_type": "code",
      "source": [
        "# Save data as a CSV file for further passing to the Kaggle form\n",
        "df_pred.to_csv('submission_v1.csv', index=False)"
      ],
      "metadata": {
        "id": "jgBB5KDTbFcS"
      },
      "execution_count": null,
      "outputs": []
    },
    {
      "cell_type": "markdown",
      "source": [
        "Kaggle results for the first submission `submission_v1.csv`:\n",
        "\n",
        "\n",
        "*   Private Score `0.67972`\n",
        "*   Public Score `0.52359`\n",
        "\n"
      ],
      "metadata": {
        "id": "ai4TmzotbuZD"
      }
    },
    {
      "cell_type": "markdown",
      "source": [
        "After analisys of the results, it seems that such a low scores can be explained by the following factors:\n",
        "\n",
        "\n",
        "*   Test set is highly imbalanced in terms of images without ships (majority class). Such an assumption is made after passing a file with empty masks to Kaggle: the private score is `0.76566`.\n",
        "*   Model is predicting too many false positives.\n",
        "\n"
      ],
      "metadata": {
        "id": "zqTFpDvkcCby"
      }
    },
    {
      "cell_type": "markdown",
      "source": [
        "# Analysis of results"
      ],
      "metadata": {
        "id": "40pWWy_cc2lY"
      }
    },
    {
      "cell_type": "markdown",
      "source": [
        "Check if there are one-pixel ships in the predicted dataset"
      ],
      "metadata": {
        "id": "9K8udP8_c8Gw"
      }
    },
    {
      "cell_type": "code",
      "source": [
        "def get_pixels_list_from_rle(rle):\n",
        "  \"\"\"\n",
        "  Get the list of selected pixels from the RLE string\n",
        "  :param str rle: RLE string to be processed\n",
        "  :return: List of indices of pixels that corresponded to the RLE string\n",
        "  :rtype: List[int]\n",
        "  \"\"\"\n",
        "  pixels = []\n",
        "  if rle != '':\n",
        "\n",
        "    # Split the string by a space symbol\n",
        "    elements = rle.split(' ')\n",
        "\n",
        "    # Process pairs (start pixel, number of pixels) therefore\n",
        "    # we are moving with the size step 2\n",
        "    for i in range(0, len(elements), 2):\n",
        "      start = int(elements[i])\n",
        "      offset = int(elements[i + 1])\n",
        "      end = start + offset\n",
        "      pixels.extend(list(range(start, end)))\n",
        "  return pixels"
      ],
      "metadata": {
        "id": "4QFqpEWHdOHC"
      },
      "execution_count": null,
      "outputs": []
    },
    {
      "cell_type": "code",
      "source": [
        "def get_num_of_pixels_from_dataset(df_subset):\n",
        "  num_of_pixels_per_ship = []\n",
        "  for _, row in df_subset[df_subset.EncodedPixels.notna()].iterrows():\n",
        "    pixels = get_pixels_list_from_rle(row['EncodedPixels'])\n",
        "    num_of_pixels_per_ship.append(len(pixels))\n",
        "  num_of_pixels_per_ship = np.array(num_of_pixels_per_ship)\n",
        "  return num_of_pixels_per_ship"
      ],
      "metadata": {
        "id": "rUENwrxFcu8h"
      },
      "execution_count": null,
      "outputs": []
    },
    {
      "cell_type": "code",
      "source": [
        "num_of_pixels_per_ship = get_num_of_pixels_from_dataset(df_pred)\n",
        "num_of_pixels_per_ship = num_of_pixels_per_ship[num_of_pixels_per_ship != 0]\n",
        "plt.hist(num_of_pixels_per_ship, bins=30)\n",
        "plt.yscale('log')\n",
        "plt.xlabel('Num of pixels in a ship')\n",
        "plt.ylabel(\"Num of samples\")\n",
        "plt.show()"
      ],
      "metadata": {
        "colab": {
          "base_uri": "https://localhost:8080/",
          "height": 449
        },
        "id": "1jq4LCoKcvA4",
        "outputId": "8bb65f43-70fb-4042-816b-d55a8873cd91"
      },
      "execution_count": null,
      "outputs": [
        {
          "output_type": "display_data",
          "data": {
            "text/plain": [
              "<Figure size 640x480 with 1 Axes>"
            ],
            "image/png": "[encoded data removed]"
          },
          "metadata": {}
        }
      ]
    },
    {
      "cell_type": "code",
      "source": [
        "print(\"Number of 1-pixel ships: {}\".format(num_of_pixels_per_ship[num_of_pixels_per_ship == 1].shape[0]))\n",
        "print(\"Number of 2-pixel ships: {}\".format(num_of_pixels_per_ship[num_of_pixels_per_ship == 2].shape[0]))"
      ],
      "metadata": {
        "colab": {
          "base_uri": "https://localhost:8080/"
        },
        "id": "kSXkxbCRbH7h",
        "outputId": "16589d42-fbcc-41dd-8c2f-91529e3ccfcc"
      },
      "execution_count": null,
      "outputs": [
        {
          "output_type": "stream",
          "name": "stdout",
          "text": [
            "Number of 1-pixel ships: 275\n",
            "Number of 2-pixel ships: 239\n"
          ]
        }
      ]
    },
    {
      "cell_type": "markdown",
      "source": [
        "Thus, there are some shapes with low number of pixels. Let's check if a training set contains such cases."
      ],
      "metadata": {
        "id": "lA-F3gktfJvC"
      }
    },
    {
      "cell_type": "code",
      "source": [
        "df_train = pd.read_csv(TRAIN_DATASET)\n",
        "df_train"
      ],
      "metadata": {
        "colab": {
          "base_uri": "https://localhost:8080/",
          "height": 423
        },
        "id": "h5KtfbujbH-V",
        "outputId": "e78658ee-5032-4c21-d48c-2acd2af3ecf2"
      },
      "execution_count": null,
      "outputs": [
        {
          "output_type": "execute_result",
          "data": {
            "text/plain": [
              "              ImageId                                      EncodedPixels\n",
              "0       00003e153.jpg                                                NaN\n",
              "1       0001124c7.jpg                                                NaN\n",
              "2       000155de5.jpg  264661 17 265429 33 266197 33 266965 33 267733...\n",
              "3       000194a2d.jpg  360486 1 361252 4 362019 5 362785 8 363552 10 ...\n",
              "4       000194a2d.jpg  51834 9 52602 9 53370 9 54138 9 54906 9 55674 ...\n",
              "...               ...                                                ...\n",
              "231718  fffedbb6b.jpg                                                NaN\n",
              "231719  ffff2aa57.jpg                                                NaN\n",
              "231720  ffff6e525.jpg                                                NaN\n",
              "231721  ffffc50b4.jpg                                                NaN\n",
              "231722  ffffe97f3.jpg                                                NaN\n",
              "\n",
              "[231723 rows x 2 columns]"
            ],
            "text/html": [
              "\n",
              "  <div id=\"df-e1262944-996d-49f0-9433-2a8926b876aa\" class=\"colab-df-container\">\n",
              "    <div>\n",
              "<style scoped>\n",
              "    .dataframe tbody tr th:only-of-type {\n",
              "        vertical-align: middle;\n",
              "    }\n",
              "\n",
              "    .dataframe tbody tr th {\n",
              "        vertical-align: top;\n",
              "    }\n",
              "\n",
              "    .dataframe thead th {\n",
              "        text-align: right;\n",
              "    }\n",
              "</style>\n",
              "<table border=\"1\" class=\"dataframe\">\n",
              "  <thead>\n",
              "    <tr style=\"text-align: right;\">\n",
              "      <th></th>\n",
              "      <th>ImageId</th>\n",
              "      <th>EncodedPixels</th>\n",
              "    </tr>\n",
              "  </thead>\n",
              "  <tbody>\n",
              "    <tr>\n",
              "      <th>0</th>\n",
              "      <td>00003e153.jpg</td>\n",
              "      <td>NaN</td>\n",
              "    </tr>\n",
              "    <tr>\n",
              "      <th>1</th>\n",
              "      <td>0001124c7.jpg</td>\n",
              "      <td>NaN</td>\n",
              "    </tr>\n",
              "    <tr>\n",
              "      <th>2</th>\n",
              "      <td>000155de5.jpg</td>\n",
              "      <td>264661 17 265429 33 266197 33 266965 33 267733...</td>\n",
              "    </tr>\n",
              "    <tr>\n",
              "      <th>3</th>\n",
              "      <td>000194a2d.jpg</td>\n",
              "      <td>360486 1 361252 4 362019 5 362785 8 363552 10 ...</td>\n",
              "    </tr>\n",
              "    <tr>\n",
              "      <th>4</th>\n",
              "      <td>000194a2d.jpg</td>\n",
              "      <td>51834 9 52602 9 53370 9 54138 9 54906 9 55674 ...</td>\n",
              "    </tr>\n",
              "    <tr>\n",
              "      <th>...</th>\n",
              "      <td>...</td>\n",
              "      <td>...</td>\n",
              "    </tr>\n",
              "    <tr>\n",
              "      <th>231718</th>\n",
              "      <td>fffedbb6b.jpg</td>\n",
              "      <td>NaN</td>\n",
              "    </tr>\n",
              "    <tr>\n",
              "      <th>231719</th>\n",
              "      <td>ffff2aa57.jpg</td>\n",
              "      <td>NaN</td>\n",
              "    </tr>\n",
              "    <tr>\n",
              "      <th>231720</th>\n",
              "      <td>ffff6e525.jpg</td>\n",
              "      <td>NaN</td>\n",
              "    </tr>\n",
              "    <tr>\n",
              "      <th>231721</th>\n",
              "      <td>ffffc50b4.jpg</td>\n",
              "      <td>NaN</td>\n",
              "    </tr>\n",
              "    <tr>\n",
              "      <th>231722</th>\n",
              "      <td>ffffe97f3.jpg</td>\n",
              "      <td>NaN</td>\n",
              "    </tr>\n",
              "  </tbody>\n",
              "</table>\n",
              "<p>231723 rows × 2 columns</p>\n",
              "</div>\n",
              "    <div class=\"colab-df-buttons\">\n",
              "\n",
              "  <div class=\"colab-df-container\">\n",
              "    <button class=\"colab-df-convert\" onclick=\"convertToInteractive('df-e1262944-996d-49f0-9433-2a8926b876aa')\"\n",
              "            title=\"Convert this dataframe to an interactive table.\"\n",
              "            style=\"display:none;\">\n",
              "\n",
              "  <svg xmlns=\"http://www.w3.org/2000/svg\" height=\"24px\" viewBox=\"0 -960 960 960\">\n",
              "    <path d=\"M120-120v-720h720v720H120Zm60-500h600v-160H180v160Zm220 220h160v-160H400v160Zm0 220h160v-160H400v160ZM180-400h160v-160H180v160Zm440 0h160v-160H620v160ZM180-180h160v-160H180v160Zm440 0h160v-160H620v160Z\"/>\n",
              "  </svg>\n",
              "    </button>\n",
              "\n",
              "  <style>\n",
              "    .colab-df-container {\n",
              "      display:flex;\n",
              "      gap: 12px;\n",
              "    }\n",
              "\n",
              "    .colab-df-convert {\n",
              "      background-color: #E8F0FE;\n",
              "      border: none;\n",
              "      border-radius: 50%;\n",
              "      cursor: pointer;\n",
              "      display: none;\n",
              "      fill: #1967D2;\n",
              "      height: 32px;\n",
              "      padding: 0 0 0 0;\n",
              "      width: 32px;\n",
              "    }\n",
              "\n",
              "    .colab-df-convert:hover {\n",
              "      background-color: #E2EBFA;\n",
              "      box-shadow: 0px 1px 2px rgba(60, 64, 67, 0.3), 0px 1px 3px 1px rgba(60, 64, 67, 0.15);\n",
              "      fill: #174EA6;\n",
              "    }\n",
              "\n",
              "    .colab-df-buttons div {\n",
              "      margin-bottom: 4px;\n",
              "    }\n",
              "\n",
              "    [theme=dark] .colab-df-convert {\n",
              "      background-color: #3B4455;\n",
              "      fill: #D2E3FC;\n",
              "    }\n",
              "\n",
              "    [theme=dark] .colab-df-convert:hover {\n",
              "      background-color: #434B5C;\n",
              "      box-shadow: 0px 1px 3px 1px rgba(0, 0, 0, 0.15);\n",
              "      filter: drop-shadow(0px 1px 2px rgba(0, 0, 0, 0.3));\n",
              "      fill: #FFFFFF;\n",
              "    }\n",
              "  </style>\n",
              "\n",
              "    <script>\n",
              "      const buttonEl =\n",
              "        document.querySelector('#df-e1262944-996d-49f0-9433-2a8926b876aa button.colab-df-convert');\n",
              "      buttonEl.style.display =\n",
              "        google.colab.kernel.accessAllowed ? 'block' : 'none';\n",
              "\n",
              "      async function convertToInteractive(key) {\n",
              "        const element = document.querySelector('#df-e1262944-996d-49f0-9433-2a8926b876aa');\n",
              "        const dataTable =\n",
              "          await google.colab.kernel.invokeFunction('convertToInteractive',\n",
              "                                                    [key], {});\n",
              "        if (!dataTable) return;\n",
              "\n",
              "        const docLinkHtml = 'Like what you see? Visit the ' +\n",
              "          '<a target=\"_blank\" href=https://colab.research.google.com/notebooks/data_table.ipynb>data table notebook</a>'\n",
              "          + ' to learn more about interactive tables.';\n",
              "        element.innerHTML = '';\n",
              "        dataTable['output_type'] = 'display_data';\n",
              "        await google.colab.output.renderOutput(dataTable, element);\n",
              "        const docLink = document.createElement('div');\n",
              "        docLink.innerHTML = docLinkHtml;\n",
              "        element.appendChild(docLink);\n",
              "      }\n",
              "    </script>\n",
              "  </div>\n",
              "\n",
              "\n",
              "<div id=\"df-fefa37ed-72cc-4e45-b018-3de2b3bbfcee\">\n",
              "  <button class=\"colab-df-quickchart\" onclick=\"quickchart('df-fefa37ed-72cc-4e45-b018-3de2b3bbfcee')\"\n",
              "            title=\"Suggest charts.\"\n",
              "            style=\"display:none;\">\n",
              "\n",
              "<svg xmlns=\"http://www.w3.org/2000/svg\" height=\"24px\"viewBox=\"0 0 24 24\"\n",
              "     width=\"24px\">\n",
              "    <g>\n",
              "        <path d=\"M19 3H5c-1.1 0-2 .9-2 2v14c0 1.1.9 2 2 2h14c1.1 0 2-.9 2-2V5c0-1.1-.9-2-2-2zM9 17H7v-7h2v7zm4 0h-2V7h2v10zm4 0h-2v-4h2v4z\"/>\n",
              "    </g>\n",
              "</svg>\n",
              "  </button>\n",
              "\n",
              "<style>\n",
              "  .colab-df-quickchart {\n",
              "      --bg-color: #E8F0FE;\n",
              "      --fill-color: #1967D2;\n",
              "      --hover-bg-color: #E2EBFA;\n",
              "      --hover-fill-color: #174EA6;\n",
              "      --disabled-fill-color: #AAA;\n",
              "      --disabled-bg-color: #DDD;\n",
              "  }\n",
              "\n",
              "  [theme=dark] .colab-df-quickchart {\n",
              "      --bg-color: #3B4455;\n",
              "      --fill-color: #D2E3FC;\n",
              "      --hover-bg-color: #434B5C;\n",
              "      --hover-fill-color: #FFFFFF;\n",
              "      --disabled-bg-color: #3B4455;\n",
              "      --disabled-fill-color: #666;\n",
              "  }\n",
              "\n",
              "  .colab-df-quickchart {\n",
              "    background-color: var(--bg-color);\n",
              "    border: none;\n",
              "    border-radius: 50%;\n",
              "    cursor: pointer;\n",
              "    display: none;\n",
              "    fill: var(--fill-color);\n",
              "    height: 32px;\n",
              "    padding: 0;\n",
              "    width: 32px;\n",
              "  }\n",
              "\n",
              "  .colab-df-quickchart:hover {\n",
              "    background-color: var(--hover-bg-color);\n",
              "    box-shadow: 0 1px 2px rgba(60, 64, 67, 0.3), 0 1px 3px 1px rgba(60, 64, 67, 0.15);\n",
              "    fill: var(--button-hover-fill-color);\n",
              "  }\n",
              "\n",
              "  .colab-df-quickchart-complete:disabled,\n",
              "  .colab-df-quickchart-complete:disabled:hover {\n",
              "    background-color: var(--disabled-bg-color);\n",
              "    fill: var(--disabled-fill-color);\n",
              "    box-shadow: none;\n",
              "  }\n",
              "\n",
              "  .colab-df-spinner {\n",
              "    border: 2px solid var(--fill-color);\n",
              "    border-color: transparent;\n",
              "    border-bottom-color: var(--fill-color);\n",
              "    animation:\n",
              "      spin 1s steps(1) infinite;\n",
              "  }\n",
              "\n",
              "  @keyframes spin {\n",
              "    0% {\n",
              "      border-color: transparent;\n",
              "      border-bottom-color: var(--fill-color);\n",
              "      border-left-color: var(--fill-color);\n",
              "    }\n",
              "    20% {\n",
              "      border-color: transparent;\n",
              "      border-left-color: var(--fill-color);\n",
              "      border-top-color: var(--fill-color);\n",
              "    }\n",
              "    30% {\n",
              "      border-color: transparent;\n",
              "      border-left-color: var(--fill-color);\n",
              "      border-top-color: var(--fill-color);\n",
              "      border-right-color: var(--fill-color);\n",
              "    }\n",
              "    40% {\n",
              "      border-color: transparent;\n",
              "      border-right-color: var(--fill-color);\n",
              "      border-top-color: var(--fill-color);\n",
              "    }\n",
              "    60% {\n",
              "      border-color: transparent;\n",
              "      border-right-color: var(--fill-color);\n",
              "    }\n",
              "    80% {\n",
              "      border-color: transparent;\n",
              "      border-right-color: var(--fill-color);\n",
              "      border-bottom-color: var(--fill-color);\n",
              "    }\n",
              "    90% {\n",
              "      border-color: transparent;\n",
              "      border-bottom-color: var(--fill-color);\n",
              "    }\n",
              "  }\n",
              "</style>\n",
              "\n",
              "  <script>\n",
              "    async function quickchart(key) {\n",
              "      const quickchartButtonEl =\n",
              "        document.querySelector('#' + key + ' button');\n",
              "      quickchartButtonEl.disabled = true;  // To prevent multiple clicks.\n",
              "      quickchartButtonEl.classList.add('colab-df-spinner');\n",
              "      try {\n",
              "        const charts = await google.colab.kernel.invokeFunction(\n",
              "            'suggestCharts', [key], {});\n",
              "      } catch (error) {\n",
              "        console.error('Error during call to suggestCharts:', error);\n",
              "      }\n",
              "      quickchartButtonEl.classList.remove('colab-df-spinner');\n",
              "      quickchartButtonEl.classList.add('colab-df-quickchart-complete');\n",
              "    }\n",
              "    (() => {\n",
              "      let quickchartButtonEl =\n",
              "        document.querySelector('#df-fefa37ed-72cc-4e45-b018-3de2b3bbfcee button');\n",
              "      quickchartButtonEl.style.display =\n",
              "        google.colab.kernel.accessAllowed ? 'block' : 'none';\n",
              "    })();\n",
              "  </script>\n",
              "</div>\n",
              "    </div>\n",
              "  </div>\n"
            ]
          },
          "metadata": {},
          "execution_count": 50
        }
      ]
    },
    {
      "cell_type": "code",
      "source": [
        "num_of_pixels_per_ship_train = get_num_of_pixels_from_dataset(df_train)"
      ],
      "metadata": {
        "id": "v49Xu212fqG7"
      },
      "execution_count": null,
      "outputs": []
    },
    {
      "cell_type": "code",
      "source": [
        "print(\"Minimum number of pixels per ship in the training set: {}\".format(np.min(num_of_pixels_per_ship_train)))"
      ],
      "metadata": {
        "colab": {
          "base_uri": "https://localhost:8080/"
        },
        "id": "WTRQ9PqFfqJg",
        "outputId": "53684dae-49ed-4158-ed7b-9d864361254f"
      },
      "execution_count": null,
      "outputs": [
        {
          "output_type": "stream",
          "name": "stdout",
          "text": [
            "Minimum number of pixels per ship in the training set: 2\n"
          ]
        }
      ]
    },
    {
      "cell_type": "markdown",
      "source": [
        "Thus, just a 1-pixel ships may be redundant. As far as such a number of cases is not too big (275 ships), the processing of such cases shouldn't really help. However, it is advisable to try to use a classifier in order to distinguish between images with/without ships."
      ],
      "metadata": {
        "id": "tNlaXRNegrJx"
      }
    },
    {
      "cell_type": "code",
      "source": [],
      "metadata": {
        "id": "uCypNhwBzt2K"
      },
      "execution_count": null,
      "outputs": []
    },
    {
      "cell_type": "markdown",
      "source": [
        "# Applying a classifier"
      ],
      "metadata": {
        "id": "rVaIfUPWUV5h"
      }
    },
    {
      "cell_type": "markdown",
      "source": [
        "## Generate the predictions for all test images"
      ],
      "metadata": {
        "id": "PhkyNd_oc3JB"
      }
    },
    {
      "cell_type": "markdown",
      "source": [
        "The next approach consists in the usage of the classifier in order to filter out images without ships."
      ],
      "metadata": {
        "id": "x4a0V1ZDYKMQ"
      }
    },
    {
      "cell_type": "code",
      "source": [
        "# Load both a preprocessor and the pre-trained model\n",
        "image_processor_classifier = AutoImageProcessor.from_pretrained(MODEL_PATH_CLASSIFIER)\n",
        "model_classifier = ViTForImageClassification.from_pretrained(MODEL_PATH_CLASSIFIER)"
      ],
      "metadata": {
        "id": "BjQnUyk-Ubq4"
      },
      "execution_count": null,
      "outputs": []
    },
    {
      "cell_type": "code",
      "source": [
        "# Set the corresponding device\n",
        "device = torch.device(\"cuda\" if torch.cuda.is_available() else \"cpu\")\n",
        "model_classifier = model_classifier.to(device)\n",
        "model_classifier = model_classifier.eval()"
      ],
      "metadata": {
        "id": "RgUCpZ7xUuqB"
      },
      "execution_count": null,
      "outputs": []
    },
    {
      "cell_type": "code",
      "source": [
        "def collate_fn_classifier(batch):\n",
        "  \"\"\"\n",
        "  Prepare function to return batches\n",
        "  \"\"\"\n",
        "\n",
        "  # Group image pixels data and their IDs\n",
        "  inputs = list(zip(*batch))\n",
        "  images = inputs[0]\n",
        "  images_idx = inputs[1]\n",
        "\n",
        "  images = [np.moveaxis(image, 0, -1) for image in images]\n",
        "\n",
        "  # Create a pixel masks&values from the list of batch images\n",
        "  batch = image_processor_classifier(\n",
        "      images,\n",
        "      return_tensors=\"pt\",\n",
        "  )\n",
        "\n",
        "  # Set IDs of batch images\n",
        "  batch['ImageId'] = images_idx\n",
        "\n",
        "  return batch\n"
      ],
      "metadata": {
        "id": "D-IaUyo7U8yO"
      },
      "execution_count": null,
      "outputs": []
    },
    {
      "cell_type": "code",
      "source": [
        "# Create a dataloader for the classification\n",
        "test_dataloader_classification = DataLoader(dataset_test, batch_size=128, shuffle=False, collate_fn=collate_fn_classifier)"
      ],
      "metadata": {
        "id": "U37RF5zPUatw"
      },
      "execution_count": null,
      "outputs": []
    },
    {
      "cell_type": "code",
      "source": [
        "# Check if the batch contains all required data\n",
        "batch = next(iter(test_dataloader_classification))\n",
        "for k,v in batch.items():\n",
        "  if isinstance(v, torch.Tensor):\n",
        "    print(k,v.shape)\n",
        "  else:\n",
        "    print(k, v)"
      ],
      "metadata": {
        "colab": {
          "base_uri": "https://localhost:8080/"
        },
        "id": "aI1pCy8_U3wB",
        "outputId": "e3cac6da-b4f2-4e27-d520-4d515064aa57"
      },
      "execution_count": null,
      "outputs": [
        {
          "output_type": "stream",
          "name": "stdout",
          "text": [
            "pixel_values torch.Size([128, 3, 224, 224])\n",
            "ImageId ('00002bd58.jpg', '00015efb6.jpg', '00023d5fc.jpg', '000367c13.jpg', '0008ca6e9.jpg', '000a4635f.jpg', '000bd9dbf.jpg', '000f7d875.jpg', '0010551d9.jpg', '001839c6f.jpg', '002a943bf.jpg', '00313b166.jpg', '00327b02d.jpg', '0035268d9.jpg', '003b58a76.jpg', '0044e3dda.jpg', '0046967a4.jpg', '004751507.jpg', '0047c79fc.jpg', '004946ceb.jpg', '004dd347a.jpg', '00506a19e.jpg', '0057c059b.jpg', '005b8152d.jpg', '0063cb1e9.jpg', '00696ecc2.jpg', '006ba5b3b.jpg', '007211988.jpg', '007545acc.jpg', '0075cd3f1.jpg', '007600ece.jpg', '0079b4767.jpg', '007d5b489.jpg', '007efb5a8.jpg', '0082bf10a.jpg', '0088eb4ba.jpg', '00893e3f7.jpg', '0089d5f39.jpg', '008c483bb.jpg', '008c79db7.jpg', '008f038d3.jpg', '00946da5e.jpg', '00973e661.jpg', '009bc4be5.jpg', '009c7f8ec.jpg', '00a2aca2f.jpg', '00a3a9d72.jpg', '00a3ab3cc.jpg', '00a9fb8a3.jpg', '00aa2fc5b.jpg', '00aa79c47.jpg', '00ad3807a.jpg', '00b2729f6.jpg', '00b40cf94.jpg', '00b5d1608.jpg', '00ba8acbb.jpg', '00bc83e03.jpg', '00bfe3afa.jpg', '00c04bea5.jpg', '00c3d29c9.jpg', '00c3db267.jpg', '00c9662ee.jpg', '00d703c55.jpg', '00d84b248.jpg', '00dc34840.jpg', '00de449b2.jpg', '00e5fb033.jpg', '00e7432b2.jpg', '00e90efc3.jpg', '00e98bc93.jpg', '00ea015c8.jpg', '00f213eee.jpg', '00f2183ab.jpg', '00f9b2c9b.jpg', '00fa68a59.jpg', '00ffdbb8e.jpg', '0102eb3b5.jpg', '0103bcfaa.jpg', '010aae011.jpg', '011409565.jpg', '011cb4ce6.jpg', '011ee8cd9.jpg', '012473874.jpg', '012f67453.jpg', '0133a2f8b.jpg', '013413f81.jpg', '015328193.jpg', '0154258e9.jpg', '015c36cf6.jpg', '015c5d101.jpg', '016053b1c.jpg', '01605ccc9.jpg', '0168fe8e9.jpg', '016e4e530.jpg', '017b0f783.jpg', '017d29096.jpg', '01801b747.jpg', '018d23aea.jpg', '018ff73f3.jpg', '0194130f1.jpg', '0195a2f39.jpg', '01963652b.jpg', '019775bce.jpg', '01979ea61.jpg', '01a192539.jpg', '01a264d50.jpg', '01ac355f3.jpg', '01ac698af.jpg', '01ad8920e.jpg', '01b485e3c.jpg', '01b730e45.jpg', '01b9f1d6a.jpg', '01b9fc445.jpg', '01c2e8d54.jpg', '01c6cf4fa.jpg', '01cab0faf.jpg', '01cafb896.jpg', '01cbc058c.jpg', '01d45755a.jpg', '01df739c4.jpg', '01e19ad63.jpg', '01e9ff827.jpg', '01ea60cb4.jpg', '01ea89616.jpg', '01ece81e5.jpg', '01ed9a6ca.jpg', '01f022e7d.jpg', '01f068d40.jpg')\n"
          ]
        }
      ]
    },
    {
      "cell_type": "code",
      "source": [
        "# Run the classification model to get predictions for all test samples\n",
        "classification_rows = []\n",
        "for batch in tqdm.tqdm(test_dataloader_classification):\n",
        "\n",
        "  # Get logits\n",
        "  with torch.no_grad():\n",
        "    logits = model_classifier(pixel_values=batch['pixel_values'].to(device)).logits\n",
        "\n",
        "  # Model predicts one of the 2 classes: without ship and with ship\n",
        "  predicted_labels = torch.argmax(logits, dim=1).cpu().detach().numpy()\n",
        "\n",
        "  # Add pairs (image, label) to the list\n",
        "  for label, image_idx in zip(predicted_labels, batch['ImageId']):\n",
        "    classification_rows.append({\n",
        "        'ImageId': image_idx,\n",
        "        'label': label\n",
        "    })\n",
        "\n",
        "  # Clear memory\n",
        "  del logits\n",
        "  torch.cuda.empty_cache()\n"
      ],
      "metadata": {
        "colab": {
          "base_uri": "https://localhost:8080/"
        },
        "id": "pTxUCHocVcv9",
        "outputId": "1337cc8a-83e9-45df-b85a-025478bc1cd9"
      },
      "execution_count": null,
      "outputs": [
        {
          "output_type": "stream",
          "name": "stderr",
          "text": [
            "122it [04:14,  2.09s/it]\n"
          ]
        }
      ]
    },
    {
      "cell_type": "code",
      "source": [
        "df_classification = pd.DataFrame(classification_rows)\n",
        "df_classification.head()"
      ],
      "metadata": {
        "colab": {
          "base_uri": "https://localhost:8080/",
          "height": 206
        },
        "id": "UzPnxEQnWxcB",
        "outputId": "74cd2aec-41c7-4e39-b404-050c3816c7c4"
      },
      "execution_count": null,
      "outputs": [
        {
          "output_type": "execute_result",
          "data": {
            "text/plain": [
              "         ImageId  label\n",
              "0  00002bd58.jpg      0\n",
              "1  00015efb6.jpg      0\n",
              "2  00023d5fc.jpg      0\n",
              "3  000367c13.jpg      1\n",
              "4  0008ca6e9.jpg      0"
            ],
            "text/html": [
              "\n",
              "  <div id=\"df-80f93667-34c3-477c-833f-86981ce69149\" class=\"colab-df-container\">\n",
              "    <div>\n",
              "<style scoped>\n",
              "    .dataframe tbody tr th:only-of-type {\n",
              "        vertical-align: middle;\n",
              "    }\n",
              "\n",
              "    .dataframe tbody tr th {\n",
              "        vertical-align: top;\n",
              "    }\n",
              "\n",
              "    .dataframe thead th {\n",
              "        text-align: right;\n",
              "    }\n",
              "</style>\n",
              "<table border=\"1\" class=\"dataframe\">\n",
              "  <thead>\n",
              "    <tr style=\"text-align: right;\">\n",
              "      <th></th>\n",
              "      <th>ImageId</th>\n",
              "      <th>label</th>\n",
              "    </tr>\n",
              "  </thead>\n",
              "  <tbody>\n",
              "    <tr>\n",
              "      <th>0</th>\n",
              "      <td>00002bd58.jpg</td>\n",
              "      <td>0</td>\n",
              "    </tr>\n",
              "    <tr>\n",
              "      <th>1</th>\n",
              "      <td>00015efb6.jpg</td>\n",
              "      <td>0</td>\n",
              "    </tr>\n",
              "    <tr>\n",
              "      <th>2</th>\n",
              "      <td>00023d5fc.jpg</td>\n",
              "      <td>0</td>\n",
              "    </tr>\n",
              "    <tr>\n",
              "      <th>3</th>\n",
              "      <td>000367c13.jpg</td>\n",
              "      <td>1</td>\n",
              "    </tr>\n",
              "    <tr>\n",
              "      <th>4</th>\n",
              "      <td>0008ca6e9.jpg</td>\n",
              "      <td>0</td>\n",
              "    </tr>\n",
              "  </tbody>\n",
              "</table>\n",
              "</div>\n",
              "    <div class=\"colab-df-buttons\">\n",
              "\n",
              "  <div class=\"colab-df-container\">\n",
              "    <button class=\"colab-df-convert\" onclick=\"convertToInteractive('df-80f93667-34c3-477c-833f-86981ce69149')\"\n",
              "            title=\"Convert this dataframe to an interactive table.\"\n",
              "            style=\"display:none;\">\n",
              "\n",
              "  <svg xmlns=\"http://www.w3.org/2000/svg\" height=\"24px\" viewBox=\"0 -960 960 960\">\n",
              "    <path d=\"M120-120v-720h720v720H120Zm60-500h600v-160H180v160Zm220 220h160v-160H400v160Zm0 220h160v-160H400v160ZM180-400h160v-160H180v160Zm440 0h160v-160H620v160ZM180-180h160v-160H180v160Zm440 0h160v-160H620v160Z\"/>\n",
              "  </svg>\n",
              "    </button>\n",
              "\n",
              "  <style>\n",
              "    .colab-df-container {\n",
              "      display:flex;\n",
              "      gap: 12px;\n",
              "    }\n",
              "\n",
              "    .colab-df-convert {\n",
              "      background-color: #E8F0FE;\n",
              "      border: none;\n",
              "      border-radius: 50%;\n",
              "      cursor: pointer;\n",
              "      display: none;\n",
              "      fill: #1967D2;\n",
              "      height: 32px;\n",
              "      padding: 0 0 0 0;\n",
              "      width: 32px;\n",
              "    }\n",
              "\n",
              "    .colab-df-convert:hover {\n",
              "      background-color: #E2EBFA;\n",
              "      box-shadow: 0px 1px 2px rgba(60, 64, 67, 0.3), 0px 1px 3px 1px rgba(60, 64, 67, 0.15);\n",
              "      fill: #174EA6;\n",
              "    }\n",
              "\n",
              "    .colab-df-buttons div {\n",
              "      margin-bottom: 4px;\n",
              "    }\n",
              "\n",
              "    [theme=dark] .colab-df-convert {\n",
              "      background-color: #3B4455;\n",
              "      fill: #D2E3FC;\n",
              "    }\n",
              "\n",
              "    [theme=dark] .colab-df-convert:hover {\n",
              "      background-color: #434B5C;\n",
              "      box-shadow: 0px 1px 3px 1px rgba(0, 0, 0, 0.15);\n",
              "      filter: drop-shadow(0px 1px 2px rgba(0, 0, 0, 0.3));\n",
              "      fill: #FFFFFF;\n",
              "    }\n",
              "  </style>\n",
              "\n",
              "    <script>\n",
              "      const buttonEl =\n",
              "        document.querySelector('#df-80f93667-34c3-477c-833f-86981ce69149 button.colab-df-convert');\n",
              "      buttonEl.style.display =\n",
              "        google.colab.kernel.accessAllowed ? 'block' : 'none';\n",
              "\n",
              "      async function convertToInteractive(key) {\n",
              "        const element = document.querySelector('#df-80f93667-34c3-477c-833f-86981ce69149');\n",
              "        const dataTable =\n",
              "          await google.colab.kernel.invokeFunction('convertToInteractive',\n",
              "                                                    [key], {});\n",
              "        if (!dataTable) return;\n",
              "\n",
              "        const docLinkHtml = 'Like what you see? Visit the ' +\n",
              "          '<a target=\"_blank\" href=https://colab.research.google.com/notebooks/data_table.ipynb>data table notebook</a>'\n",
              "          + ' to learn more about interactive tables.';\n",
              "        element.innerHTML = '';\n",
              "        dataTable['output_type'] = 'display_data';\n",
              "        await google.colab.output.renderOutput(dataTable, element);\n",
              "        const docLink = document.createElement('div');\n",
              "        docLink.innerHTML = docLinkHtml;\n",
              "        element.appendChild(docLink);\n",
              "      }\n",
              "    </script>\n",
              "  </div>\n",
              "\n",
              "\n",
              "<div id=\"df-5f4e321e-b181-44a7-8a4e-6cddd3fafaa7\">\n",
              "  <button class=\"colab-df-quickchart\" onclick=\"quickchart('df-5f4e321e-b181-44a7-8a4e-6cddd3fafaa7')\"\n",
              "            title=\"Suggest charts.\"\n",
              "            style=\"display:none;\">\n",
              "\n",
              "<svg xmlns=\"http://www.w3.org/2000/svg\" height=\"24px\"viewBox=\"0 0 24 24\"\n",
              "     width=\"24px\">\n",
              "    <g>\n",
              "        <path d=\"M19 3H5c-1.1 0-2 .9-2 2v14c0 1.1.9 2 2 2h14c1.1 0 2-.9 2-2V5c0-1.1-.9-2-2-2zM9 17H7v-7h2v7zm4 0h-2V7h2v10zm4 0h-2v-4h2v4z\"/>\n",
              "    </g>\n",
              "</svg>\n",
              "  </button>\n",
              "\n",
              "<style>\n",
              "  .colab-df-quickchart {\n",
              "      --bg-color: #E8F0FE;\n",
              "      --fill-color: #1967D2;\n",
              "      --hover-bg-color: #E2EBFA;\n",
              "      --hover-fill-color: #174EA6;\n",
              "      --disabled-fill-color: #AAA;\n",
              "      --disabled-bg-color: #DDD;\n",
              "  }\n",
              "\n",
              "  [theme=dark] .colab-df-quickchart {\n",
              "      --bg-color: #3B4455;\n",
              "      --fill-color: #D2E3FC;\n",
              "      --hover-bg-color: #434B5C;\n",
              "      --hover-fill-color: #FFFFFF;\n",
              "      --disabled-bg-color: #3B4455;\n",
              "      --disabled-fill-color: #666;\n",
              "  }\n",
              "\n",
              "  .colab-df-quickchart {\n",
              "    background-color: var(--bg-color);\n",
              "    border: none;\n",
              "    border-radius: 50%;\n",
              "    cursor: pointer;\n",
              "    display: none;\n",
              "    fill: var(--fill-color);\n",
              "    height: 32px;\n",
              "    padding: 0;\n",
              "    width: 32px;\n",
              "  }\n",
              "\n",
              "  .colab-df-quickchart:hover {\n",
              "    background-color: var(--hover-bg-color);\n",
              "    box-shadow: 0 1px 2px rgba(60, 64, 67, 0.3), 0 1px 3px 1px rgba(60, 64, 67, 0.15);\n",
              "    fill: var(--button-hover-fill-color);\n",
              "  }\n",
              "\n",
              "  .colab-df-quickchart-complete:disabled,\n",
              "  .colab-df-quickchart-complete:disabled:hover {\n",
              "    background-color: var(--disabled-bg-color);\n",
              "    fill: var(--disabled-fill-color);\n",
              "    box-shadow: none;\n",
              "  }\n",
              "\n",
              "  .colab-df-spinner {\n",
              "    border: 2px solid var(--fill-color);\n",
              "    border-color: transparent;\n",
              "    border-bottom-color: var(--fill-color);\n",
              "    animation:\n",
              "      spin 1s steps(1) infinite;\n",
              "  }\n",
              "\n",
              "  @keyframes spin {\n",
              "    0% {\n",
              "      border-color: transparent;\n",
              "      border-bottom-color: var(--fill-color);\n",
              "      border-left-color: var(--fill-color);\n",
              "    }\n",
              "    20% {\n",
              "      border-color: transparent;\n",
              "      border-left-color: var(--fill-color);\n",
              "      border-top-color: var(--fill-color);\n",
              "    }\n",
              "    30% {\n",
              "      border-color: transparent;\n",
              "      border-left-color: var(--fill-color);\n",
              "      border-top-color: var(--fill-color);\n",
              "      border-right-color: var(--fill-color);\n",
              "    }\n",
              "    40% {\n",
              "      border-color: transparent;\n",
              "      border-right-color: var(--fill-color);\n",
              "      border-top-color: var(--fill-color);\n",
              "    }\n",
              "    60% {\n",
              "      border-color: transparent;\n",
              "      border-right-color: var(--fill-color);\n",
              "    }\n",
              "    80% {\n",
              "      border-color: transparent;\n",
              "      border-right-color: var(--fill-color);\n",
              "      border-bottom-color: var(--fill-color);\n",
              "    }\n",
              "    90% {\n",
              "      border-color: transparent;\n",
              "      border-bottom-color: var(--fill-color);\n",
              "    }\n",
              "  }\n",
              "</style>\n",
              "\n",
              "  <script>\n",
              "    async function quickchart(key) {\n",
              "      const quickchartButtonEl =\n",
              "        document.querySelector('#' + key + ' button');\n",
              "      quickchartButtonEl.disabled = true;  // To prevent multiple clicks.\n",
              "      quickchartButtonEl.classList.add('colab-df-spinner');\n",
              "      try {\n",
              "        const charts = await google.colab.kernel.invokeFunction(\n",
              "            'suggestCharts', [key], {});\n",
              "      } catch (error) {\n",
              "        console.error('Error during call to suggestCharts:', error);\n",
              "      }\n",
              "      quickchartButtonEl.classList.remove('colab-df-spinner');\n",
              "      quickchartButtonEl.classList.add('colab-df-quickchart-complete');\n",
              "    }\n",
              "    (() => {\n",
              "      let quickchartButtonEl =\n",
              "        document.querySelector('#df-5f4e321e-b181-44a7-8a4e-6cddd3fafaa7 button');\n",
              "      quickchartButtonEl.style.display =\n",
              "        google.colab.kernel.accessAllowed ? 'block' : 'none';\n",
              "    })();\n",
              "  </script>\n",
              "</div>\n",
              "    </div>\n",
              "  </div>\n"
            ]
          },
          "metadata": {},
          "execution_count": 60
        }
      ]
    },
    {
      "cell_type": "code",
      "source": [
        "num_images_wo_ships = df_classification[df_classification.label == 0].shape[0]\n",
        "num_images_total = df_classification.shape[0]\n",
        "print(\"Ratio of predicted images without ships: {:.3f}%\".format(100 * num_images_wo_ships / num_images_total))"
      ],
      "metadata": {
        "colab": {
          "base_uri": "https://localhost:8080/"
        },
        "id": "i3wYnI3fZDFA",
        "outputId": "0564e8cb-9f40-47f6-b6b2-73301de88426"
      },
      "execution_count": null,
      "outputs": [
        {
          "output_type": "stream",
          "name": "stdout",
          "text": [
            "Ratio of predicted images without ships: 76.451%\n"
          ]
        }
      ]
    },
    {
      "cell_type": "markdown",
      "source": [
        "Ratio of predicted images without ships is big that may confirm the hypothesis of the imbalanced test set that leads to bad Kaggle metrics."
      ],
      "metadata": {
        "id": "jpQfzhqVZY5f"
      }
    },
    {
      "cell_type": "code",
      "source": [
        "df_classification.to_csv(\"classification.csv\")"
      ],
      "metadata": {
        "id": "0yp098-nXCb8"
      },
      "execution_count": null,
      "outputs": []
    },
    {
      "cell_type": "markdown",
      "source": [
        "## Clean generated segmentation set according to the predicted classification labels"
      ],
      "metadata": {
        "id": "H2IpZi6SZ-jC"
      }
    },
    {
      "cell_type": "code",
      "source": [
        "# Load the sumbission of the semantic segmentation model\n",
        "df_pred = pd.read_csv(\"submission_v1.csv\")"
      ],
      "metadata": {
        "id": "_wZcXP9maIaZ"
      },
      "execution_count": null,
      "outputs": []
    },
    {
      "cell_type": "code",
      "source": [
        "# For all cases when the classifier predicts a \"no-ship\" label\n",
        "# we remove all segmentation predictions and set the corresponding field as an empty string\n",
        "images_wo_ships = df_classification[df_classification.label == 0]['ImageId'].unique()\n",
        "new_records = []\n",
        "images_considered = []\n",
        "for _, row in df_pred.iterrows():\n",
        "  if row['ImageId'] in images_wo_ships:\n",
        "    if not (row['ImageId'] in images_considered):\n",
        "      images_considered.append(row['ImageId'])\n",
        "      new_records.append({\n",
        "        'ImageId': row['ImageId'],\n",
        "        'EncodedPixels': ''\n",
        "      })\n",
        "  else:\n",
        "    new_records.append(row)"
      ],
      "metadata": {
        "id": "c65Rm3AnaaIB"
      },
      "execution_count": null,
      "outputs": []
    },
    {
      "cell_type": "code",
      "source": [
        "df_pred_filtered = pd.DataFrame(new_records)\n",
        "df_pred_filtered.head()"
      ],
      "metadata": {
        "colab": {
          "base_uri": "https://localhost:8080/",
          "height": 206
        },
        "id": "GzGi8DLDabS9",
        "outputId": "f7740efc-b81d-420f-e18c-d3e98ca734b0"
      },
      "execution_count": null,
      "outputs": [
        {
          "output_type": "execute_result",
          "data": {
            "text/plain": [
              "         ImageId                                      EncodedPixels\n",
              "0  00002bd58.jpg                                                   \n",
              "1  00015efb6.jpg                                                   \n",
              "2  00023d5fc.jpg                                                   \n",
              "3  000367c13.jpg  344078 1 344843 6 345610 7 346378 7 347145 8 3...\n",
              "4  000367c13.jpg  474714 1 475478 6 476245 8 477013 8 477781 8 4..."
            ],
            "text/html": [
              "\n",
              "  <div id=\"df-6f15163c-d601-427b-9417-826dbdf087f9\" class=\"colab-df-container\">\n",
              "    <div>\n",
              "<style scoped>\n",
              "    .dataframe tbody tr th:only-of-type {\n",
              "        vertical-align: middle;\n",
              "    }\n",
              "\n",
              "    .dataframe tbody tr th {\n",
              "        vertical-align: top;\n",
              "    }\n",
              "\n",
              "    .dataframe thead th {\n",
              "        text-align: right;\n",
              "    }\n",
              "</style>\n",
              "<table border=\"1\" class=\"dataframe\">\n",
              "  <thead>\n",
              "    <tr style=\"text-align: right;\">\n",
              "      <th></th>\n",
              "      <th>ImageId</th>\n",
              "      <th>EncodedPixels</th>\n",
              "    </tr>\n",
              "  </thead>\n",
              "  <tbody>\n",
              "    <tr>\n",
              "      <th>0</th>\n",
              "      <td>00002bd58.jpg</td>\n",
              "      <td></td>\n",
              "    </tr>\n",
              "    <tr>\n",
              "      <th>1</th>\n",
              "      <td>00015efb6.jpg</td>\n",
              "      <td></td>\n",
              "    </tr>\n",
              "    <tr>\n",
              "      <th>2</th>\n",
              "      <td>00023d5fc.jpg</td>\n",
              "      <td></td>\n",
              "    </tr>\n",
              "    <tr>\n",
              "      <th>3</th>\n",
              "      <td>000367c13.jpg</td>\n",
              "      <td>344078 1 344843 6 345610 7 346378 7 347145 8 3...</td>\n",
              "    </tr>\n",
              "    <tr>\n",
              "      <th>4</th>\n",
              "      <td>000367c13.jpg</td>\n",
              "      <td>474714 1 475478 6 476245 8 477013 8 477781 8 4...</td>\n",
              "    </tr>\n",
              "  </tbody>\n",
              "</table>\n",
              "</div>\n",
              "    <div class=\"colab-df-buttons\">\n",
              "\n",
              "  <div class=\"colab-df-container\">\n",
              "    <button class=\"colab-df-convert\" onclick=\"convertToInteractive('df-6f15163c-d601-427b-9417-826dbdf087f9')\"\n",
              "            title=\"Convert this dataframe to an interactive table.\"\n",
              "            style=\"display:none;\">\n",
              "\n",
              "  <svg xmlns=\"http://www.w3.org/2000/svg\" height=\"24px\" viewBox=\"0 -960 960 960\">\n",
              "    <path d=\"M120-120v-720h720v720H120Zm60-500h600v-160H180v160Zm220 220h160v-160H400v160Zm0 220h160v-160H400v160ZM180-400h160v-160H180v160Zm440 0h160v-160H620v160ZM180-180h160v-160H180v160Zm440 0h160v-160H620v160Z\"/>\n",
              "  </svg>\n",
              "    </button>\n",
              "\n",
              "  <style>\n",
              "    .colab-df-container {\n",
              "      display:flex;\n",
              "      gap: 12px;\n",
              "    }\n",
              "\n",
              "    .colab-df-convert {\n",
              "      background-color: #E8F0FE;\n",
              "      border: none;\n",
              "      border-radius: 50%;\n",
              "      cursor: pointer;\n",
              "      display: none;\n",
              "      fill: #1967D2;\n",
              "      height: 32px;\n",
              "      padding: 0 0 0 0;\n",
              "      width: 32px;\n",
              "    }\n",
              "\n",
              "    .colab-df-convert:hover {\n",
              "      background-color: #E2EBFA;\n",
              "      box-shadow: 0px 1px 2px rgba(60, 64, 67, 0.3), 0px 1px 3px 1px rgba(60, 64, 67, 0.15);\n",
              "      fill: #174EA6;\n",
              "    }\n",
              "\n",
              "    .colab-df-buttons div {\n",
              "      margin-bottom: 4px;\n",
              "    }\n",
              "\n",
              "    [theme=dark] .colab-df-convert {\n",
              "      background-color: #3B4455;\n",
              "      fill: #D2E3FC;\n",
              "    }\n",
              "\n",
              "    [theme=dark] .colab-df-convert:hover {\n",
              "      background-color: #434B5C;\n",
              "      box-shadow: 0px 1px 3px 1px rgba(0, 0, 0, 0.15);\n",
              "      filter: drop-shadow(0px 1px 2px rgba(0, 0, 0, 0.3));\n",
              "      fill: #FFFFFF;\n",
              "    }\n",
              "  </style>\n",
              "\n",
              "    <script>\n",
              "      const buttonEl =\n",
              "        document.querySelector('#df-6f15163c-d601-427b-9417-826dbdf087f9 button.colab-df-convert');\n",
              "      buttonEl.style.display =\n",
              "        google.colab.kernel.accessAllowed ? 'block' : 'none';\n",
              "\n",
              "      async function convertToInteractive(key) {\n",
              "        const element = document.querySelector('#df-6f15163c-d601-427b-9417-826dbdf087f9');\n",
              "        const dataTable =\n",
              "          await google.colab.kernel.invokeFunction('convertToInteractive',\n",
              "                                                    [key], {});\n",
              "        if (!dataTable) return;\n",
              "\n",
              "        const docLinkHtml = 'Like what you see? Visit the ' +\n",
              "          '<a target=\"_blank\" href=https://colab.research.google.com/notebooks/data_table.ipynb>data table notebook</a>'\n",
              "          + ' to learn more about interactive tables.';\n",
              "        element.innerHTML = '';\n",
              "        dataTable['output_type'] = 'display_data';\n",
              "        await google.colab.output.renderOutput(dataTable, element);\n",
              "        const docLink = document.createElement('div');\n",
              "        docLink.innerHTML = docLinkHtml;\n",
              "        element.appendChild(docLink);\n",
              "      }\n",
              "    </script>\n",
              "  </div>\n",
              "\n",
              "\n",
              "<div id=\"df-2de69104-9d93-4930-ac62-041647c84986\">\n",
              "  <button class=\"colab-df-quickchart\" onclick=\"quickchart('df-2de69104-9d93-4930-ac62-041647c84986')\"\n",
              "            title=\"Suggest charts.\"\n",
              "            style=\"display:none;\">\n",
              "\n",
              "<svg xmlns=\"http://www.w3.org/2000/svg\" height=\"24px\"viewBox=\"0 0 24 24\"\n",
              "     width=\"24px\">\n",
              "    <g>\n",
              "        <path d=\"M19 3H5c-1.1 0-2 .9-2 2v14c0 1.1.9 2 2 2h14c1.1 0 2-.9 2-2V5c0-1.1-.9-2-2-2zM9 17H7v-7h2v7zm4 0h-2V7h2v10zm4 0h-2v-4h2v4z\"/>\n",
              "    </g>\n",
              "</svg>\n",
              "  </button>\n",
              "\n",
              "<style>\n",
              "  .colab-df-quickchart {\n",
              "      --bg-color: #E8F0FE;\n",
              "      --fill-color: #1967D2;\n",
              "      --hover-bg-color: #E2EBFA;\n",
              "      --hover-fill-color: #174EA6;\n",
              "      --disabled-fill-color: #AAA;\n",
              "      --disabled-bg-color: #DDD;\n",
              "  }\n",
              "\n",
              "  [theme=dark] .colab-df-quickchart {\n",
              "      --bg-color: #3B4455;\n",
              "      --fill-color: #D2E3FC;\n",
              "      --hover-bg-color: #434B5C;\n",
              "      --hover-fill-color: #FFFFFF;\n",
              "      --disabled-bg-color: #3B4455;\n",
              "      --disabled-fill-color: #666;\n",
              "  }\n",
              "\n",
              "  .colab-df-quickchart {\n",
              "    background-color: var(--bg-color);\n",
              "    border: none;\n",
              "    border-radius: 50%;\n",
              "    cursor: pointer;\n",
              "    display: none;\n",
              "    fill: var(--fill-color);\n",
              "    height: 32px;\n",
              "    padding: 0;\n",
              "    width: 32px;\n",
              "  }\n",
              "\n",
              "  .colab-df-quickchart:hover {\n",
              "    background-color: var(--hover-bg-color);\n",
              "    box-shadow: 0 1px 2px rgba(60, 64, 67, 0.3), 0 1px 3px 1px rgba(60, 64, 67, 0.15);\n",
              "    fill: var(--button-hover-fill-color);\n",
              "  }\n",
              "\n",
              "  .colab-df-quickchart-complete:disabled,\n",
              "  .colab-df-quickchart-complete:disabled:hover {\n",
              "    background-color: var(--disabled-bg-color);\n",
              "    fill: var(--disabled-fill-color);\n",
              "    box-shadow: none;\n",
              "  }\n",
              "\n",
              "  .colab-df-spinner {\n",
              "    border: 2px solid var(--fill-color);\n",
              "    border-color: transparent;\n",
              "    border-bottom-color: var(--fill-color);\n",
              "    animation:\n",
              "      spin 1s steps(1) infinite;\n",
              "  }\n",
              "\n",
              "  @keyframes spin {\n",
              "    0% {\n",
              "      border-color: transparent;\n",
              "      border-bottom-color: var(--fill-color);\n",
              "      border-left-color: var(--fill-color);\n",
              "    }\n",
              "    20% {\n",
              "      border-color: transparent;\n",
              "      border-left-color: var(--fill-color);\n",
              "      border-top-color: var(--fill-color);\n",
              "    }\n",
              "    30% {\n",
              "      border-color: transparent;\n",
              "      border-left-color: var(--fill-color);\n",
              "      border-top-color: var(--fill-color);\n",
              "      border-right-color: var(--fill-color);\n",
              "    }\n",
              "    40% {\n",
              "      border-color: transparent;\n",
              "      border-right-color: var(--fill-color);\n",
              "      border-top-color: var(--fill-color);\n",
              "    }\n",
              "    60% {\n",
              "      border-color: transparent;\n",
              "      border-right-color: var(--fill-color);\n",
              "    }\n",
              "    80% {\n",
              "      border-color: transparent;\n",
              "      border-right-color: var(--fill-color);\n",
              "      border-bottom-color: var(--fill-color);\n",
              "    }\n",
              "    90% {\n",
              "      border-color: transparent;\n",
              "      border-bottom-color: var(--fill-color);\n",
              "    }\n",
              "  }\n",
              "</style>\n",
              "\n",
              "  <script>\n",
              "    async function quickchart(key) {\n",
              "      const quickchartButtonEl =\n",
              "        document.querySelector('#' + key + ' button');\n",
              "      quickchartButtonEl.disabled = true;  // To prevent multiple clicks.\n",
              "      quickchartButtonEl.classList.add('colab-df-spinner');\n",
              "      try {\n",
              "        const charts = await google.colab.kernel.invokeFunction(\n",
              "            'suggestCharts', [key], {});\n",
              "      } catch (error) {\n",
              "        console.error('Error during call to suggestCharts:', error);\n",
              "      }\n",
              "      quickchartButtonEl.classList.remove('colab-df-spinner');\n",
              "      quickchartButtonEl.classList.add('colab-df-quickchart-complete');\n",
              "    }\n",
              "    (() => {\n",
              "      let quickchartButtonEl =\n",
              "        document.querySelector('#df-2de69104-9d93-4930-ac62-041647c84986 button');\n",
              "      quickchartButtonEl.style.display =\n",
              "        google.colab.kernel.accessAllowed ? 'block' : 'none';\n",
              "    })();\n",
              "  </script>\n",
              "</div>\n",
              "    </div>\n",
              "  </div>\n"
            ]
          },
          "metadata": {},
          "execution_count": 72
        }
      ]
    },
    {
      "cell_type": "code",
      "source": [
        "df_pred_filtered.to_csv(\"submission_v2.csv\", index=False)"
      ],
      "metadata": {
        "id": "K7WlG0ujbYJW"
      },
      "execution_count": null,
      "outputs": []
    },
    {
      "cell_type": "markdown",
      "source": [
        "Kaggle results for the second submission `submission_v2.csv`:\n",
        "\n",
        "\n",
        "*   Private Score `0.79862`\n",
        "*   Public Score `0.62482`\n",
        "\n"
      ],
      "metadata": {
        "id": "VhBgMVnKcYK5"
      }
    },
    {
      "cell_type": "markdown",
      "source": [
        "As can be seen, the usage of the classifier allowed improving the Kaggle metrics in more than 10%. However, the values of metrics still indicate the available issues that have to be solved."
      ],
      "metadata": {
        "id": "pIyezHrHchHR"
      }
    }
  ]
}